{
  "cells": [
    {
      "cell_type": "code",
      "execution_count": null,
      "metadata": {
        "id": "Qvfs-eagW_iZ"
      },
      "outputs": [],
      "source": [
        "import pandas as pd\n",
        "import matplotlib.pyplot as plt\n",
        "import numpy as np\n",
        "from sklearn.preprocessing import MinMaxScaler\n",
        "from tensorflow import keras\n",
        "from tensorflow.keras import layers\n",
        "from keras.models import Sequential\n",
        "\n",
        "from tensorflow.keras.layers import Bidirectional\n",
        "from tensorflow.keras.layers import LSTM\n",
        "from tensorflow.keras.layers import Dense\n",
        "from keras.layers import Dropout"
      ]
    },
    {
      "cell_type": "code",
      "execution_count": null,
      "metadata": {
        "id": "16AW8tQ2z0PD"
      },
      "outputs": [],
      "source": [
        "#Custom Activation Function -- swish for Bidirectional Layer\n",
        "from keras.utils.generic_utils import get_custom_objects\n",
        "from keras import backend as K\n",
        "from keras.layers import Activation\n",
        "\n",
        "def custom_activation(x, beta = 1):\n",
        "        return (K.sigmoid(beta * x) * x)\n",
        "\n",
        "get_custom_objects().update({'custom_activation': Activation(custom_activation)})"
      ]
    },
    {
      "cell_type": "markdown",
      "metadata": {
        "id": "oEzS3uOwY5dD"
      },
      "source": [
        "Dataset used: [https://www.kaggle.com/stanley11291985/hk-macroeconomics-data](https://www.kaggle.com/stanley11291985/hk-macroeconomics-data)"
      ]
    },
    {
      "cell_type": "code",
      "execution_count": null,
      "metadata": {
        "colab": {
          "base_uri": "https://localhost:8080/",
          "height": 73,
          "resources": {
            "http://localhost:8080/nbextensions/google.colab/files.js": {
              "data": "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",
              "headers": [
                [
                  "content-type",
                  "application/javascript"
                ]
              ],
              "ok": true,
              "status": 200,
              "status_text": ""
            }
          }
        },
        "id": "ocmw-75qXJXm",
        "outputId": "14c59807-ddac-41bb-de7f-84283d83f571"
      },
      "outputs": [
        {
          "output_type": "display_data",
          "data": {
            "text/plain": [
              "<IPython.core.display.HTML object>"
            ],
            "text/html": [
              "\n",
              "     <input type=\"file\" id=\"files-8724e623-b27a-4708-acae-36f811ecae14\" name=\"files[]\" multiple disabled\n",
              "        style=\"border:none\" />\n",
              "     <output id=\"result-8724e623-b27a-4708-acae-36f811ecae14\">\n",
              "      Upload widget is only available when the cell has been executed in the\n",
              "      current browser session. Please rerun this cell to enable.\n",
              "      </output>\n",
              "      <script src=\"/nbextensions/google.colab/files.js\"></script> "
            ]
          },
          "metadata": {}
        },
        {
          "output_type": "stream",
          "name": "stdout",
          "text": [
            "Saving Housing market data.xlsx to Housing market data (1).xlsx\n"
          ]
        }
      ],
      "source": [
        "from google.colab import files\n",
        "uploaded = files.upload()"
      ]
    },
    {
      "cell_type": "code",
      "execution_count": null,
      "metadata": {
        "colab": {
          "base_uri": "https://localhost:8080/",
          "height": 731
        },
        "id": "TshM_TVzXK1z",
        "outputId": "8bd2490e-5061-4a98-f0cd-e8a24e80b359"
      },
      "outputs": [
        {
          "output_type": "execute_result",
          "data": {
            "text/plain": [
              "           Date  Private Domestic (Price Index)  First hand sales quantity  \\\n",
              "0    2003-01-02                       64.559769                1854.689208   \n",
              "1    2003-01-03                       64.506848                1892.762372   \n",
              "2    2003-01-06                       64.453848                1931.338866   \n",
              "3    2003-01-07                       64.400768                1970.418692   \n",
              "4    2003-01-08                       64.347610                2010.001848   \n",
              "...         ...                             ...                        ...   \n",
              "4228 2019-11-20                      367.535153                3703.971873   \n",
              "4229 2019-11-21                      367.108272                3812.401157   \n",
              "4230 2019-11-22                      366.678619                3923.098735   \n",
              "4231 2019-11-25                      366.246194                4036.064606   \n",
              "4232 2019-11-26                      365.810997                4151.298770   \n",
              "\n",
              "      First hand sales amount  Total completions   Total stock  Total take up  \\\n",
              "0                5.846897e+09       33983.762413  1.092844e+06   19914.083323   \n",
              "1                5.927523e+09       33932.818955  1.092244e+06   19900.006814   \n",
              "2                5.998876e+09       33882.041253  1.091646e+06   19886.125236   \n",
              "3                6.060958e+09       33831.429307  1.091050e+06   19872.438591   \n",
              "4                6.113768e+09       33780.983117  1.090457e+06   19858.946877   \n",
              "...                       ...                ...           ...            ...   \n",
              "4228             2.414254e+10       24102.097251  1.214440e+06   -3709.657487   \n",
              "4229             2.474971e+10       24116.858626  1.214539e+06   -3801.292428   \n",
              "4230             2.537114e+10       24131.625774  1.214638e+06   -3893.129764   \n",
              "4231             2.600682e+10       24146.398696  1.214737e+06   -3985.169494   \n",
              "4232             2.665676e+10       24161.177390  1.214837e+06   -4077.411618   \n",
              "\n",
              "      Total vacancy  Unemployment rate (seasonally adjusted) (%)         CPI  \\\n",
              "0      74177.818318                                     7.301525   73.721486   \n",
              "1      74155.621001                                     7.299043   73.717079   \n",
              "2      74133.429251                                     7.296561   73.712684   \n",
              "3      74111.243068                                     7.294081   73.708301   \n",
              "4      74089.062450                                     7.291601   73.703930   \n",
              "...             ...                                          ...         ...   \n",
              "4228   68524.599646                                     3.252151  110.013591   \n",
              "4229   68621.956325                                     3.252718  110.019627   \n",
              "4230   68719.495386                                     3.253286  110.025657   \n",
              "4231   68817.216827                                     3.253855  110.031681   \n",
              "4232   68915.120650                                     3.254425  110.037699   \n",
              "\n",
              "      HIBOR (1-month)  M3 (HK$ million)   HSI - close  HSI - volume  \n",
              "0            1.444200      3.562189e+06   9365.519531  1.269074e+08  \n",
              "1            1.417410      3.562586e+06   9583.849609  2.914544e+08  \n",
              "2            1.404020      3.563044e+06   9665.959961  2.349128e+08  \n",
              "3            1.390630      3.563562e+06   9652.400391  2.670218e+08  \n",
              "4            1.397320      3.564141e+06   9688.209961  2.024392e+08  \n",
              "...               ...               ...           ...           ...  \n",
              "4228         2.057968      1.429137e+07  26889.609375  1.333244e+09  \n",
              "4229         2.060889      1.428063e+07  26466.880859  1.712162e+09  \n",
              "4230         2.063812      1.426970e+07  26595.080078  1.100432e+09  \n",
              "4231         2.066737      1.425859e+07  26993.039063  1.497176e+09  \n",
              "4232         2.069664      1.424728e+07  26913.919922  2.416392e+09  \n",
              "\n",
              "[4233 rows x 14 columns]"
            ],
            "text/html": [
              "\n",
              "  <div id=\"df-2bc36175-4e73-4c4e-a457-82ab0c7f05bf\">\n",
              "    <div class=\"colab-df-container\">\n",
              "      <div>\n",
              "<style scoped>\n",
              "    .dataframe tbody tr th:only-of-type {\n",
              "        vertical-align: middle;\n",
              "    }\n",
              "\n",
              "    .dataframe tbody tr th {\n",
              "        vertical-align: top;\n",
              "    }\n",
              "\n",
              "    .dataframe thead th {\n",
              "        text-align: right;\n",
              "    }\n",
              "</style>\n",
              "<table border=\"1\" class=\"dataframe\">\n",
              "  <thead>\n",
              "    <tr style=\"text-align: right;\">\n",
              "      <th></th>\n",
              "      <th>Date</th>\n",
              "      <th>Private Domestic (Price Index)</th>\n",
              "      <th>First hand sales quantity</th>\n",
              "      <th>First hand sales amount</th>\n",
              "      <th>Total completions</th>\n",
              "      <th>Total stock</th>\n",
              "      <th>Total take up</th>\n",
              "      <th>Total vacancy</th>\n",
              "      <th>Unemployment rate (seasonally adjusted) (%)</th>\n",
              "      <th>CPI</th>\n",
              "      <th>HIBOR (1-month)</th>\n",
              "      <th>M3 (HK$ million)</th>\n",
              "      <th>HSI - close</th>\n",
              "      <th>HSI - volume</th>\n",
              "    </tr>\n",
              "  </thead>\n",
              "  <tbody>\n",
              "    <tr>\n",
              "      <th>0</th>\n",
              "      <td>2003-01-02</td>\n",
              "      <td>64.559769</td>\n",
              "      <td>1854.689208</td>\n",
              "      <td>5.846897e+09</td>\n",
              "      <td>33983.762413</td>\n",
              "      <td>1.092844e+06</td>\n",
              "      <td>19914.083323</td>\n",
              "      <td>74177.818318</td>\n",
              "      <td>7.301525</td>\n",
              "      <td>73.721486</td>\n",
              "      <td>1.444200</td>\n",
              "      <td>3.562189e+06</td>\n",
              "      <td>9365.519531</td>\n",
              "      <td>1.269074e+08</td>\n",
              "    </tr>\n",
              "    <tr>\n",
              "      <th>1</th>\n",
              "      <td>2003-01-03</td>\n",
              "      <td>64.506848</td>\n",
              "      <td>1892.762372</td>\n",
              "      <td>5.927523e+09</td>\n",
              "      <td>33932.818955</td>\n",
              "      <td>1.092244e+06</td>\n",
              "      <td>19900.006814</td>\n",
              "      <td>74155.621001</td>\n",
              "      <td>7.299043</td>\n",
              "      <td>73.717079</td>\n",
              "      <td>1.417410</td>\n",
              "      <td>3.562586e+06</td>\n",
              "      <td>9583.849609</td>\n",
              "      <td>2.914544e+08</td>\n",
              "    </tr>\n",
              "    <tr>\n",
              "      <th>2</th>\n",
              "      <td>2003-01-06</td>\n",
              "      <td>64.453848</td>\n",
              "      <td>1931.338866</td>\n",
              "      <td>5.998876e+09</td>\n",
              "      <td>33882.041253</td>\n",
              "      <td>1.091646e+06</td>\n",
              "      <td>19886.125236</td>\n",
              "      <td>74133.429251</td>\n",
              "      <td>7.296561</td>\n",
              "      <td>73.712684</td>\n",
              "      <td>1.404020</td>\n",
              "      <td>3.563044e+06</td>\n",
              "      <td>9665.959961</td>\n",
              "      <td>2.349128e+08</td>\n",
              "    </tr>\n",
              "    <tr>\n",
              "      <th>3</th>\n",
              "      <td>2003-01-07</td>\n",
              "      <td>64.400768</td>\n",
              "      <td>1970.418692</td>\n",
              "      <td>6.060958e+09</td>\n",
              "      <td>33831.429307</td>\n",
              "      <td>1.091050e+06</td>\n",
              "      <td>19872.438591</td>\n",
              "      <td>74111.243068</td>\n",
              "      <td>7.294081</td>\n",
              "      <td>73.708301</td>\n",
              "      <td>1.390630</td>\n",
              "      <td>3.563562e+06</td>\n",
              "      <td>9652.400391</td>\n",
              "      <td>2.670218e+08</td>\n",
              "    </tr>\n",
              "    <tr>\n",
              "      <th>4</th>\n",
              "      <td>2003-01-08</td>\n",
              "      <td>64.347610</td>\n",
              "      <td>2010.001848</td>\n",
              "      <td>6.113768e+09</td>\n",
              "      <td>33780.983117</td>\n",
              "      <td>1.090457e+06</td>\n",
              "      <td>19858.946877</td>\n",
              "      <td>74089.062450</td>\n",
              "      <td>7.291601</td>\n",
              "      <td>73.703930</td>\n",
              "      <td>1.397320</td>\n",
              "      <td>3.564141e+06</td>\n",
              "      <td>9688.209961</td>\n",
              "      <td>2.024392e+08</td>\n",
              "    </tr>\n",
              "    <tr>\n",
              "      <th>...</th>\n",
              "      <td>...</td>\n",
              "      <td>...</td>\n",
              "      <td>...</td>\n",
              "      <td>...</td>\n",
              "      <td>...</td>\n",
              "      <td>...</td>\n",
              "      <td>...</td>\n",
              "      <td>...</td>\n",
              "      <td>...</td>\n",
              "      <td>...</td>\n",
              "      <td>...</td>\n",
              "      <td>...</td>\n",
              "      <td>...</td>\n",
              "      <td>...</td>\n",
              "    </tr>\n",
              "    <tr>\n",
              "      <th>4228</th>\n",
              "      <td>2019-11-20</td>\n",
              "      <td>367.535153</td>\n",
              "      <td>3703.971873</td>\n",
              "      <td>2.414254e+10</td>\n",
              "      <td>24102.097251</td>\n",
              "      <td>1.214440e+06</td>\n",
              "      <td>-3709.657487</td>\n",
              "      <td>68524.599646</td>\n",
              "      <td>3.252151</td>\n",
              "      <td>110.013591</td>\n",
              "      <td>2.057968</td>\n",
              "      <td>1.429137e+07</td>\n",
              "      <td>26889.609375</td>\n",
              "      <td>1.333244e+09</td>\n",
              "    </tr>\n",
              "    <tr>\n",
              "      <th>4229</th>\n",
              "      <td>2019-11-21</td>\n",
              "      <td>367.108272</td>\n",
              "      <td>3812.401157</td>\n",
              "      <td>2.474971e+10</td>\n",
              "      <td>24116.858626</td>\n",
              "      <td>1.214539e+06</td>\n",
              "      <td>-3801.292428</td>\n",
              "      <td>68621.956325</td>\n",
              "      <td>3.252718</td>\n",
              "      <td>110.019627</td>\n",
              "      <td>2.060889</td>\n",
              "      <td>1.428063e+07</td>\n",
              "      <td>26466.880859</td>\n",
              "      <td>1.712162e+09</td>\n",
              "    </tr>\n",
              "    <tr>\n",
              "      <th>4230</th>\n",
              "      <td>2019-11-22</td>\n",
              "      <td>366.678619</td>\n",
              "      <td>3923.098735</td>\n",
              "      <td>2.537114e+10</td>\n",
              "      <td>24131.625774</td>\n",
              "      <td>1.214638e+06</td>\n",
              "      <td>-3893.129764</td>\n",
              "      <td>68719.495386</td>\n",
              "      <td>3.253286</td>\n",
              "      <td>110.025657</td>\n",
              "      <td>2.063812</td>\n",
              "      <td>1.426970e+07</td>\n",
              "      <td>26595.080078</td>\n",
              "      <td>1.100432e+09</td>\n",
              "    </tr>\n",
              "    <tr>\n",
              "      <th>4231</th>\n",
              "      <td>2019-11-25</td>\n",
              "      <td>366.246194</td>\n",
              "      <td>4036.064606</td>\n",
              "      <td>2.600682e+10</td>\n",
              "      <td>24146.398696</td>\n",
              "      <td>1.214737e+06</td>\n",
              "      <td>-3985.169494</td>\n",
              "      <td>68817.216827</td>\n",
              "      <td>3.253855</td>\n",
              "      <td>110.031681</td>\n",
              "      <td>2.066737</td>\n",
              "      <td>1.425859e+07</td>\n",
              "      <td>26993.039063</td>\n",
              "      <td>1.497176e+09</td>\n",
              "    </tr>\n",
              "    <tr>\n",
              "      <th>4232</th>\n",
              "      <td>2019-11-26</td>\n",
              "      <td>365.810997</td>\n",
              "      <td>4151.298770</td>\n",
              "      <td>2.665676e+10</td>\n",
              "      <td>24161.177390</td>\n",
              "      <td>1.214837e+06</td>\n",
              "      <td>-4077.411618</td>\n",
              "      <td>68915.120650</td>\n",
              "      <td>3.254425</td>\n",
              "      <td>110.037699</td>\n",
              "      <td>2.069664</td>\n",
              "      <td>1.424728e+07</td>\n",
              "      <td>26913.919922</td>\n",
              "      <td>2.416392e+09</td>\n",
              "    </tr>\n",
              "  </tbody>\n",
              "</table>\n",
              "<p>4233 rows × 14 columns</p>\n",
              "</div>\n",
              "      <button class=\"colab-df-convert\" onclick=\"convertToInteractive('df-2bc36175-4e73-4c4e-a457-82ab0c7f05bf')\"\n",
              "              title=\"Convert this dataframe to an interactive table.\"\n",
              "              style=\"display:none;\">\n",
              "        \n",
              "  <svg xmlns=\"http://www.w3.org/2000/svg\" height=\"24px\"viewBox=\"0 0 24 24\"\n",
              "       width=\"24px\">\n",
              "    <path d=\"M0 0h24v24H0V0z\" fill=\"none\"/>\n",
              "    <path d=\"M18.56 5.44l.94 2.06.94-2.06 2.06-.94-2.06-.94-.94-2.06-.94 2.06-2.06.94zm-11 1L8.5 8.5l.94-2.06 2.06-.94-2.06-.94L8.5 2.5l-.94 2.06-2.06.94zm10 10l.94 2.06.94-2.06 2.06-.94-2.06-.94-.94-2.06-.94 2.06-2.06.94z\"/><path d=\"M17.41 7.96l-1.37-1.37c-.4-.4-.92-.59-1.43-.59-.52 0-1.04.2-1.43.59L10.3 9.45l-7.72 7.72c-.78.78-.78 2.05 0 2.83L4 21.41c.39.39.9.59 1.41.59.51 0 1.02-.2 1.41-.59l7.78-7.78 2.81-2.81c.8-.78.8-2.07 0-2.86zM5.41 20L4 18.59l7.72-7.72 1.47 1.35L5.41 20z\"/>\n",
              "  </svg>\n",
              "      </button>\n",
              "      \n",
              "  <style>\n",
              "    .colab-df-container {\n",
              "      display:flex;\n",
              "      flex-wrap:wrap;\n",
              "      gap: 12px;\n",
              "    }\n",
              "\n",
              "    .colab-df-convert {\n",
              "      background-color: #E8F0FE;\n",
              "      border: none;\n",
              "      border-radius: 50%;\n",
              "      cursor: pointer;\n",
              "      display: none;\n",
              "      fill: #1967D2;\n",
              "      height: 32px;\n",
              "      padding: 0 0 0 0;\n",
              "      width: 32px;\n",
              "    }\n",
              "\n",
              "    .colab-df-convert:hover {\n",
              "      background-color: #E2EBFA;\n",
              "      box-shadow: 0px 1px 2px rgba(60, 64, 67, 0.3), 0px 1px 3px 1px rgba(60, 64, 67, 0.15);\n",
              "      fill: #174EA6;\n",
              "    }\n",
              "\n",
              "    [theme=dark] .colab-df-convert {\n",
              "      background-color: #3B4455;\n",
              "      fill: #D2E3FC;\n",
              "    }\n",
              "\n",
              "    [theme=dark] .colab-df-convert:hover {\n",
              "      background-color: #434B5C;\n",
              "      box-shadow: 0px 1px 3px 1px rgba(0, 0, 0, 0.15);\n",
              "      filter: drop-shadow(0px 1px 2px rgba(0, 0, 0, 0.3));\n",
              "      fill: #FFFFFF;\n",
              "    }\n",
              "  </style>\n",
              "\n",
              "      <script>\n",
              "        const buttonEl =\n",
              "          document.querySelector('#df-2bc36175-4e73-4c4e-a457-82ab0c7f05bf button.colab-df-convert');\n",
              "        buttonEl.style.display =\n",
              "          google.colab.kernel.accessAllowed ? 'block' : 'none';\n",
              "\n",
              "        async function convertToInteractive(key) {\n",
              "          const element = document.querySelector('#df-2bc36175-4e73-4c4e-a457-82ab0c7f05bf');\n",
              "          const dataTable =\n",
              "            await google.colab.kernel.invokeFunction('convertToInteractive',\n",
              "                                                     [key], {});\n",
              "          if (!dataTable) return;\n",
              "\n",
              "          const docLinkHtml = 'Like what you see? Visit the ' +\n",
              "            '<a target=\"_blank\" href=https://colab.research.google.com/notebooks/data_table.ipynb>data table notebook</a>'\n",
              "            + ' to learn more about interactive tables.';\n",
              "          element.innerHTML = '';\n",
              "          dataTable['output_type'] = 'display_data';\n",
              "          await google.colab.output.renderOutput(dataTable, element);\n",
              "          const docLink = document.createElement('div');\n",
              "          docLink.innerHTML = docLinkHtml;\n",
              "          element.appendChild(docLink);\n",
              "        }\n",
              "      </script>\n",
              "    </div>\n",
              "  </div>\n",
              "  "
            ]
          },
          "metadata": {},
          "execution_count": 12
        }
      ],
      "source": [
        "df=pd.read_excel('Housing market data.xlsx', parse_dates=['Date'])\n",
        "df"
      ]
    },
    {
      "cell_type": "code",
      "execution_count": null,
      "metadata": {
        "id": "wHzO6at7Xin-"
      },
      "outputs": [],
      "source": [
        "df=df[['Date', 'Private Domestic (Price Index)']]\n",
        "df.index=df['Date']"
      ]
    },
    {
      "cell_type": "markdown",
      "metadata": {
        "id": "Mi3aqW8IGUG-"
      },
      "source": [
        "As the time series is irregularly sampled, we resample (to get daily frequency) and interpolate the missing Private Domestic values"
      ]
    },
    {
      "cell_type": "code",
      "execution_count": null,
      "metadata": {
        "id": "Gkmm2rh0eYt7"
      },
      "outputs": [],
      "source": [
        "#Moving date to index for ease of interpolation\n",
        "del df['Date']"
      ]
    },
    {
      "cell_type": "code",
      "execution_count": null,
      "metadata": {
        "id": "H_tJjdmxcrtn"
      },
      "outputs": [],
      "source": [
        "df=df.resample('D').mean()"
      ]
    },
    {
      "cell_type": "code",
      "execution_count": null,
      "metadata": {
        "id": "Opnft7LSezBH"
      },
      "outputs": [],
      "source": [
        "df['Private Domestic (Price Index)']=df['Private Domestic (Price Index)'].interpolate().values.ravel().tolist()"
      ]
    },
    {
      "cell_type": "code",
      "execution_count": null,
      "metadata": {
        "colab": {
          "base_uri": "https://localhost:8080/",
          "height": 455
        },
        "id": "L-MVbtJbd2Q0",
        "outputId": "dbb050d3-8bac-4935-f03b-5ead27a1b9e2"
      },
      "outputs": [
        {
          "output_type": "execute_result",
          "data": {
            "text/plain": [
              "            Private Domestic (Price Index)\n",
              "Date                                      \n",
              "2003-01-02                       64.559769\n",
              "2003-01-03                       64.506848\n",
              "2003-01-04                       64.489181\n",
              "2003-01-05                       64.471514\n",
              "2003-01-06                       64.453848\n",
              "...                                    ...\n",
              "2019-11-22                      366.678619\n",
              "2019-11-23                      366.534478\n",
              "2019-11-24                      366.390336\n",
              "2019-11-25                      366.246194\n",
              "2019-11-26                      365.810997\n",
              "\n",
              "[6173 rows x 1 columns]"
            ],
            "text/html": [
              "\n",
              "  <div id=\"df-4b80ec43-47fa-4943-a9ec-4a214084b381\">\n",
              "    <div class=\"colab-df-container\">\n",
              "      <div>\n",
              "<style scoped>\n",
              "    .dataframe tbody tr th:only-of-type {\n",
              "        vertical-align: middle;\n",
              "    }\n",
              "\n",
              "    .dataframe tbody tr th {\n",
              "        vertical-align: top;\n",
              "    }\n",
              "\n",
              "    .dataframe thead th {\n",
              "        text-align: right;\n",
              "    }\n",
              "</style>\n",
              "<table border=\"1\" class=\"dataframe\">\n",
              "  <thead>\n",
              "    <tr style=\"text-align: right;\">\n",
              "      <th></th>\n",
              "      <th>Private Domestic (Price Index)</th>\n",
              "    </tr>\n",
              "    <tr>\n",
              "      <th>Date</th>\n",
              "      <th></th>\n",
              "    </tr>\n",
              "  </thead>\n",
              "  <tbody>\n",
              "    <tr>\n",
              "      <th>2003-01-02</th>\n",
              "      <td>64.559769</td>\n",
              "    </tr>\n",
              "    <tr>\n",
              "      <th>2003-01-03</th>\n",
              "      <td>64.506848</td>\n",
              "    </tr>\n",
              "    <tr>\n",
              "      <th>2003-01-04</th>\n",
              "      <td>64.489181</td>\n",
              "    </tr>\n",
              "    <tr>\n",
              "      <th>2003-01-05</th>\n",
              "      <td>64.471514</td>\n",
              "    </tr>\n",
              "    <tr>\n",
              "      <th>2003-01-06</th>\n",
              "      <td>64.453848</td>\n",
              "    </tr>\n",
              "    <tr>\n",
              "      <th>...</th>\n",
              "      <td>...</td>\n",
              "    </tr>\n",
              "    <tr>\n",
              "      <th>2019-11-22</th>\n",
              "      <td>366.678619</td>\n",
              "    </tr>\n",
              "    <tr>\n",
              "      <th>2019-11-23</th>\n",
              "      <td>366.534478</td>\n",
              "    </tr>\n",
              "    <tr>\n",
              "      <th>2019-11-24</th>\n",
              "      <td>366.390336</td>\n",
              "    </tr>\n",
              "    <tr>\n",
              "      <th>2019-11-25</th>\n",
              "      <td>366.246194</td>\n",
              "    </tr>\n",
              "    <tr>\n",
              "      <th>2019-11-26</th>\n",
              "      <td>365.810997</td>\n",
              "    </tr>\n",
              "  </tbody>\n",
              "</table>\n",
              "<p>6173 rows × 1 columns</p>\n",
              "</div>\n",
              "      <button class=\"colab-df-convert\" onclick=\"convertToInteractive('df-4b80ec43-47fa-4943-a9ec-4a214084b381')\"\n",
              "              title=\"Convert this dataframe to an interactive table.\"\n",
              "              style=\"display:none;\">\n",
              "        \n",
              "  <svg xmlns=\"http://www.w3.org/2000/svg\" height=\"24px\"viewBox=\"0 0 24 24\"\n",
              "       width=\"24px\">\n",
              "    <path d=\"M0 0h24v24H0V0z\" fill=\"none\"/>\n",
              "    <path d=\"M18.56 5.44l.94 2.06.94-2.06 2.06-.94-2.06-.94-.94-2.06-.94 2.06-2.06.94zm-11 1L8.5 8.5l.94-2.06 2.06-.94-2.06-.94L8.5 2.5l-.94 2.06-2.06.94zm10 10l.94 2.06.94-2.06 2.06-.94-2.06-.94-.94-2.06-.94 2.06-2.06.94z\"/><path d=\"M17.41 7.96l-1.37-1.37c-.4-.4-.92-.59-1.43-.59-.52 0-1.04.2-1.43.59L10.3 9.45l-7.72 7.72c-.78.78-.78 2.05 0 2.83L4 21.41c.39.39.9.59 1.41.59.51 0 1.02-.2 1.41-.59l7.78-7.78 2.81-2.81c.8-.78.8-2.07 0-2.86zM5.41 20L4 18.59l7.72-7.72 1.47 1.35L5.41 20z\"/>\n",
              "  </svg>\n",
              "      </button>\n",
              "      \n",
              "  <style>\n",
              "    .colab-df-container {\n",
              "      display:flex;\n",
              "      flex-wrap:wrap;\n",
              "      gap: 12px;\n",
              "    }\n",
              "\n",
              "    .colab-df-convert {\n",
              "      background-color: #E8F0FE;\n",
              "      border: none;\n",
              "      border-radius: 50%;\n",
              "      cursor: pointer;\n",
              "      display: none;\n",
              "      fill: #1967D2;\n",
              "      height: 32px;\n",
              "      padding: 0 0 0 0;\n",
              "      width: 32px;\n",
              "    }\n",
              "\n",
              "    .colab-df-convert:hover {\n",
              "      background-color: #E2EBFA;\n",
              "      box-shadow: 0px 1px 2px rgba(60, 64, 67, 0.3), 0px 1px 3px 1px rgba(60, 64, 67, 0.15);\n",
              "      fill: #174EA6;\n",
              "    }\n",
              "\n",
              "    [theme=dark] .colab-df-convert {\n",
              "      background-color: #3B4455;\n",
              "      fill: #D2E3FC;\n",
              "    }\n",
              "\n",
              "    [theme=dark] .colab-df-convert:hover {\n",
              "      background-color: #434B5C;\n",
              "      box-shadow: 0px 1px 3px 1px rgba(0, 0, 0, 0.15);\n",
              "      filter: drop-shadow(0px 1px 2px rgba(0, 0, 0, 0.3));\n",
              "      fill: #FFFFFF;\n",
              "    }\n",
              "  </style>\n",
              "\n",
              "      <script>\n",
              "        const buttonEl =\n",
              "          document.querySelector('#df-4b80ec43-47fa-4943-a9ec-4a214084b381 button.colab-df-convert');\n",
              "        buttonEl.style.display =\n",
              "          google.colab.kernel.accessAllowed ? 'block' : 'none';\n",
              "\n",
              "        async function convertToInteractive(key) {\n",
              "          const element = document.querySelector('#df-4b80ec43-47fa-4943-a9ec-4a214084b381');\n",
              "          const dataTable =\n",
              "            await google.colab.kernel.invokeFunction('convertToInteractive',\n",
              "                                                     [key], {});\n",
              "          if (!dataTable) return;\n",
              "\n",
              "          const docLinkHtml = 'Like what you see? Visit the ' +\n",
              "            '<a target=\"_blank\" href=https://colab.research.google.com/notebooks/data_table.ipynb>data table notebook</a>'\n",
              "            + ' to learn more about interactive tables.';\n",
              "          element.innerHTML = '';\n",
              "          dataTable['output_type'] = 'display_data';\n",
              "          await google.colab.output.renderOutput(dataTable, element);\n",
              "          const docLink = document.createElement('div');\n",
              "          docLink.innerHTML = docLinkHtml;\n",
              "          element.appendChild(docLink);\n",
              "        }\n",
              "      </script>\n",
              "    </div>\n",
              "  </div>\n",
              "  "
            ]
          },
          "metadata": {},
          "execution_count": 17
        }
      ],
      "source": [
        "df"
      ]
    },
    {
      "cell_type": "code",
      "execution_count": null,
      "metadata": {
        "id": "F5aFthz7drq3"
      },
      "outputs": [],
      "source": [
        "#Restoring Date as a column\n",
        "df['Date']=df.index"
      ]
    },
    {
      "cell_type": "code",
      "execution_count": null,
      "metadata": {
        "colab": {
          "base_uri": "https://localhost:8080/",
          "height": 391
        },
        "id": "D8JSSlKKYqoZ",
        "outputId": "ca69eda0-4aa4-4d8c-e7ee-7ff727be5061"
      },
      "outputs": [
        {
          "output_type": "execute_result",
          "data": {
            "text/plain": [
              "[<matplotlib.lines.Line2D at 0x7f68f5957a10>]"
            ]
          },
          "metadata": {},
          "execution_count": 19
        },
        {
          "output_type": "display_data",
          "data": {
            "text/plain": [
              "<Figure size 720x432 with 1 Axes>"
            ],
            "image/png": "[encoded data removed]"
          },
          "metadata": {
            "needs_background": "light"
          }
        }
      ],
      "source": [
        "#Plotting graph to view how Private Domestic varies with Date\n",
        "plt.figure(figsize = (10, 6))\n",
        "\n",
        "plt.plot(df['Date'],df['Private Domestic (Price Index)'], color='tab:orange')"
      ]
    },
    {
      "cell_type": "markdown",
      "metadata": {
        "id": "Aov0qHAkHCGG"
      },
      "source": [
        "Splitting into test and train data sets + Scaling\n",
        "\n"
      ]
    },
    {
      "cell_type": "code",
      "execution_count": null,
      "metadata": {
        "id": "AtfAX0Tnfo_D"
      },
      "outputs": [],
      "source": [
        "train_size = int(len(df)*0.8)\n",
        "date=df.pop('Date')\n",
        "train_data = df.iloc[:train_size]\n",
        "test_data = df.iloc[train_size:]"
      ]
    },
    {
      "cell_type": "code",
      "execution_count": null,
      "metadata": {
        "id": "1qlWA83kfuy6"
      },
      "outputs": [],
      "source": [
        "scaler = MinMaxScaler().fit(train_data)\n",
        "train_scaled = scaler.transform(train_data)\n",
        "test_scaled = scaler.transform(test_data)"
      ]
    },
    {
      "cell_type": "code",
      "execution_count": null,
      "metadata": {
        "id": "zeoLtxdFfobB"
      },
      "outputs": [],
      "source": [
        "def create_dataset (X, past):\n",
        "    Xs, ys = [], []\n",
        "\n",
        "    for i in range(len(X)-past):\n",
        "        v = X[i:i+past]\n",
        "        Xs.append(v)\n",
        "        ys.append(X[i+past])\n",
        "\n",
        "    return np.array(Xs), np.array(ys)\n",
        "past = 31\n",
        "X_train, y_train = create_dataset(train_scaled,past)\n",
        "X_test, y_test = create_dataset(test_scaled,past)\n"
      ]
    },
    {
      "cell_type": "markdown",
      "metadata": {
        "id": "Y0HT6X6xHkmL"
      },
      "source": [
        "Model creation"
      ]
    },
    {
      "cell_type": "code",
      "execution_count": null,
      "metadata": {
        "id": "0uMtLGSmhiTl"
      },
      "outputs": [],
      "source": [
        "def create_bilstm(units):\n",
        "    model = Sequential()\n",
        "    model.add(Activation(custom_activation,name = \"Swish\"))\n",
        "    model.add(Bidirectional(\n",
        "              LSTM(units = units, return_sequences=True),\n",
        "              input_shape=(X_train.shape[1], X_train.shape[2])))\n",
        "    model.add(Dropout(0.2))\n",
        "    model.add(Bidirectional(LSTM(units = units)))\n",
        "    model.add(Dropout(0.2))\n",
        "    model.add(Dense(1))\n",
        "    model.compile(optimizer=\"adam\",loss=\"mse\",metrics=['accuracy'])\n",
        "    return model\n",
        "\n",
        "model_bilstm = create_bilstm(64)\n"
      ]
    },
    {
      "cell_type": "code",
      "execution_count": null,
      "metadata": {
        "colab": {
          "base_uri": "https://localhost:8080/"
        },
        "id": "PgdahjOPPLHb",
        "outputId": "49cbffbf-37e8-4c0e-e783-2ae014b89efe"
      },
      "outputs": [
        {
          "output_type": "stream",
          "name": "stdout",
          "text": [
            "Epoch 1/30\n",
            "92/92 [==============================] - ETA: 0s - loss: 6.9135e-04 - accuracy: 3.3967e-04\n",
            "Epoch 1: val_loss improved from inf to 0.02681, saving model to model_checkpoint.h5\n",
            "92/92 [==============================] - 17s 104ms/step - loss: 6.9135e-04 - accuracy: 3.3967e-04 - val_loss: 0.0268 - val_accuracy: 5.0942e-04\n",
            "Epoch 2/30\n",
            "92/92 [==============================] - ETA: 0s - loss: 0.0028 - accuracy: 3.3967e-04\n",
            "Epoch 2: val_loss did not improve from 0.02681\n",
            "92/92 [==============================] - 7s 76ms/step - loss: 0.0028 - accuracy: 3.3967e-04 - val_loss: 0.0275 - val_accuracy: 5.0942e-04\n",
            "Epoch 3/30\n",
            "92/92 [==============================] - ETA: 0s - loss: 0.0065 - accuracy: 3.3967e-04\n",
            "Epoch 3: val_loss did not improve from 0.02681\n",
            "92/92 [==============================] - 6s 70ms/step - loss: 0.0065 - accuracy: 3.3967e-04 - val_loss: 0.0541 - val_accuracy: 5.0942e-04\n",
            "Epoch 4/30\n",
            "92/92 [==============================] - ETA: 0s - loss: 0.0059 - accuracy: 3.3967e-04\n",
            "Epoch 4: val_loss improved from 0.02681 to 0.02652, saving model to model_checkpoint.h5\n",
            "92/92 [==============================] - 6s 70ms/step - loss: 0.0059 - accuracy: 3.3967e-04 - val_loss: 0.0265 - val_accuracy: 5.0942e-04\n",
            "Epoch 5/30\n",
            "92/92 [==============================] - ETA: 0s - loss: 0.0051 - accuracy: 3.3967e-04\n",
            "Epoch 5: val_loss improved from 0.02652 to 0.00648, saving model to model_checkpoint.h5\n",
            "92/92 [==============================] - 6s 69ms/step - loss: 0.0051 - accuracy: 3.3967e-04 - val_loss: 0.0065 - val_accuracy: 5.0942e-04\n",
            "Epoch 6/30\n",
            "92/92 [==============================] - ETA: 0s - loss: 0.0044 - accuracy: 3.3967e-04\n",
            "Epoch 6: val_loss improved from 0.00648 to 0.00299, saving model to model_checkpoint.h5\n",
            "92/92 [==============================] - 6s 67ms/step - loss: 0.0044 - accuracy: 3.3967e-04 - val_loss: 0.0030 - val_accuracy: 5.0942e-04\n",
            "Epoch 7/30\n",
            "92/92 [==============================] - ETA: 0s - loss: 0.0028 - accuracy: 3.3967e-04\n",
            "Epoch 7: val_loss improved from 0.00299 to 0.00022, saving model to model_checkpoint.h5\n",
            "92/92 [==============================] - 6s 69ms/step - loss: 0.0028 - accuracy: 3.3967e-04 - val_loss: 2.2014e-04 - val_accuracy: 5.0942e-04\n",
            "Epoch 8/30\n",
            "92/92 [==============================] - ETA: 0s - loss: 0.0012 - accuracy: 3.3967e-04\n",
            "Epoch 8: val_loss did not improve from 0.00022\n",
            "92/92 [==============================] - 6s 70ms/step - loss: 0.0012 - accuracy: 3.3967e-04 - val_loss: 7.6166e-04 - val_accuracy: 5.0942e-04\n",
            "Epoch 9/30\n",
            "92/92 [==============================] - ETA: 0s - loss: 3.0415e-04 - accuracy: 3.3967e-04\n",
            "Epoch 9: val_loss did not improve from 0.00022\n",
            "92/92 [==============================] - 7s 80ms/step - loss: 3.0415e-04 - accuracy: 3.3967e-04 - val_loss: 5.1372e-04 - val_accuracy: 5.0942e-04\n",
            "Epoch 10/30\n",
            "92/92 [==============================] - ETA: 0s - loss: 1.8397e-04 - accuracy: 3.3967e-04\n",
            "Epoch 10: val_loss improved from 0.00022 to 0.00015, saving model to model_checkpoint.h5\n",
            "92/92 [==============================] - 6s 69ms/step - loss: 1.8397e-04 - accuracy: 3.3967e-04 - val_loss: 1.4681e-04 - val_accuracy: 5.0942e-04\n",
            "Epoch 11/30\n",
            "92/92 [==============================] - ETA: 0s - loss: 1.6937e-04 - accuracy: 3.3967e-04\n",
            "Epoch 11: val_loss did not improve from 0.00015\n",
            "92/92 [==============================] - 6s 68ms/step - loss: 1.6937e-04 - accuracy: 3.3967e-04 - val_loss: 4.7637e-04 - val_accuracy: 5.0942e-04\n",
            "Epoch 12/30\n",
            "92/92 [==============================] - ETA: 0s - loss: 1.6126e-04 - accuracy: 3.3967e-04\n",
            "Epoch 12: val_loss did not improve from 0.00015\n",
            "92/92 [==============================] - 6s 69ms/step - loss: 1.6126e-04 - accuracy: 3.3967e-04 - val_loss: 5.5712e-04 - val_accuracy: 5.0942e-04\n",
            "Epoch 13/30\n",
            "92/92 [==============================] - ETA: 0s - loss: 1.5514e-04 - accuracy: 3.3967e-04\n",
            "Epoch 13: val_loss did not improve from 0.00015\n",
            "92/92 [==============================] - 6s 68ms/step - loss: 1.5514e-04 - accuracy: 3.3967e-04 - val_loss: 4.6995e-04 - val_accuracy: 5.0942e-04\n",
            "Epoch 14/30\n",
            "92/92 [==============================] - ETA: 0s - loss: 1.5954e-04 - accuracy: 3.3967e-04\n",
            "Epoch 14: val_loss did not improve from 0.00015\n",
            "92/92 [==============================] - 6s 69ms/step - loss: 1.5954e-04 - accuracy: 3.3967e-04 - val_loss: 5.3830e-04 - val_accuracy: 5.0942e-04\n",
            "Epoch 15/30\n",
            "92/92 [==============================] - ETA: 0s - loss: 1.7632e-04 - accuracy: 3.3967e-04\n",
            "Epoch 15: val_loss did not improve from 0.00015\n",
            "92/92 [==============================] - 6s 69ms/step - loss: 1.7632e-04 - accuracy: 3.3967e-04 - val_loss: 0.0028 - val_accuracy: 5.0942e-04\n",
            "Epoch 16/30\n",
            "92/92 [==============================] - ETA: 0s - loss: 1.2956e-04 - accuracy: 3.3967e-04\n",
            "Epoch 16: val_loss did not improve from 0.00015\n",
            "92/92 [==============================] - 6s 69ms/step - loss: 1.2956e-04 - accuracy: 3.3967e-04 - val_loss: 0.0024 - val_accuracy: 5.0942e-04\n",
            "Epoch 17/30\n",
            "92/92 [==============================] - ETA: 0s - loss: 1.4534e-04 - accuracy: 3.3967e-04\n",
            "Epoch 17: val_loss did not improve from 0.00015\n",
            "92/92 [==============================] - 6s 69ms/step - loss: 1.4534e-04 - accuracy: 3.3967e-04 - val_loss: 0.0022 - val_accuracy: 5.0942e-04\n",
            "Epoch 18/30\n",
            "92/92 [==============================] - ETA: 0s - loss: 1.6086e-04 - accuracy: 3.3967e-04\n",
            "Epoch 18: val_loss did not improve from 0.00015\n",
            "92/92 [==============================] - 6s 69ms/step - loss: 1.6086e-04 - accuracy: 3.3967e-04 - val_loss: 0.0029 - val_accuracy: 5.0942e-04\n",
            "Epoch 19/30\n",
            "92/92 [==============================] - ETA: 0s - loss: 1.3610e-04 - accuracy: 3.3967e-04\n",
            "Epoch 19: val_loss did not improve from 0.00015\n",
            "92/92 [==============================] - 6s 69ms/step - loss: 1.3610e-04 - accuracy: 3.3967e-04 - val_loss: 0.0017 - val_accuracy: 5.0942e-04\n",
            "Epoch 20/30\n",
            "92/92 [==============================] - ETA: 0s - loss: 1.5115e-04 - accuracy: 3.3967e-04\n",
            "Epoch 20: val_loss did not improve from 0.00015\n",
            "92/92 [==============================] - 6s 69ms/step - loss: 1.5115e-04 - accuracy: 3.3967e-04 - val_loss: 0.0019 - val_accuracy: 5.0942e-04\n",
            "Epoch 21/30\n",
            "92/92 [==============================] - ETA: 0s - loss: 1.3572e-04 - accuracy: 3.3967e-04\n",
            "Epoch 21: val_loss did not improve from 0.00015\n",
            "92/92 [==============================] - 6s 69ms/step - loss: 1.3572e-04 - accuracy: 3.3967e-04 - val_loss: 0.0015 - val_accuracy: 5.0942e-04\n",
            "Epoch 22/30\n",
            "92/92 [==============================] - ETA: 0s - loss: 1.4786e-04 - accuracy: 3.3967e-04\n",
            "Epoch 22: val_loss did not improve from 0.00015\n",
            "92/92 [==============================] - 6s 69ms/step - loss: 1.4786e-04 - accuracy: 3.3967e-04 - val_loss: 7.4475e-04 - val_accuracy: 5.0942e-04\n",
            "Epoch 23/30\n",
            "92/92 [==============================] - ETA: 0s - loss: 1.7328e-04 - accuracy: 3.3967e-04\n",
            "Epoch 23: val_loss did not improve from 0.00015\n",
            "92/92 [==============================] - 6s 68ms/step - loss: 1.7328e-04 - accuracy: 3.3967e-04 - val_loss: 0.0021 - val_accuracy: 5.0942e-04\n",
            "Epoch 24/30\n",
            "92/92 [==============================] - ETA: 0s - loss: 1.4849e-04 - accuracy: 3.3967e-04\n",
            "Epoch 24: val_loss did not improve from 0.00015\n",
            "92/92 [==============================] - 6s 69ms/step - loss: 1.4849e-04 - accuracy: 3.3967e-04 - val_loss: 4.1257e-04 - val_accuracy: 5.0942e-04\n",
            "Epoch 25/30\n",
            "92/92 [==============================] - ETA: 0s - loss: 1.9720e-04 - accuracy: 3.3967e-04\n",
            "Epoch 25: val_loss did not improve from 0.00015\n",
            "92/92 [==============================] - 6s 69ms/step - loss: 1.9720e-04 - accuracy: 3.3967e-04 - val_loss: 5.8670e-04 - val_accuracy: 5.0942e-04\n",
            "Epoch 26/30\n",
            "92/92 [==============================] - ETA: 0s - loss: 2.0865e-04 - accuracy: 3.3967e-04\n",
            "Epoch 26: val_loss did not improve from 0.00015\n",
            "92/92 [==============================] - 6s 69ms/step - loss: 2.0865e-04 - accuracy: 3.3967e-04 - val_loss: 0.0014 - val_accuracy: 5.0942e-04\n",
            "Epoch 27/30\n",
            "92/92 [==============================] - ETA: 0s - loss: 1.8823e-04 - accuracy: 3.3967e-04\n",
            "Epoch 27: val_loss did not improve from 0.00015\n",
            "92/92 [==============================] - 6s 70ms/step - loss: 1.8823e-04 - accuracy: 3.3967e-04 - val_loss: 6.4218e-04 - val_accuracy: 5.0942e-04\n",
            "Epoch 28/30\n",
            "92/92 [==============================] - ETA: 0s - loss: 2.4973e-04 - accuracy: 3.3967e-04\n",
            "Epoch 28: val_loss did not improve from 0.00015\n",
            "92/92 [==============================] - 6s 69ms/step - loss: 2.4973e-04 - accuracy: 3.3967e-04 - val_loss: 2.8538e-04 - val_accuracy: 5.0942e-04\n",
            "Epoch 29/30\n",
            "92/92 [==============================] - ETA: 0s - loss: 2.4804e-04 - accuracy: 3.3967e-04\n",
            "Epoch 29: val_loss did not improve from 0.00015\n",
            "92/92 [==============================] - 6s 69ms/step - loss: 2.4804e-04 - accuracy: 3.3967e-04 - val_loss: 9.4836e-04 - val_accuracy: 5.0942e-04\n",
            "Epoch 30/30\n",
            "92/92 [==============================] - ETA: 0s - loss: 2.2942e-04 - accuracy: 3.3967e-04\n",
            "Epoch 30: val_loss did not improve from 0.00015\n",
            "92/92 [==============================] - 6s 69ms/step - loss: 2.2942e-04 - accuracy: 3.3967e-04 - val_loss: 2.2505e-04 - val_accuracy: 5.0942e-04\n"
          ]
        }
      ],
      "source": [
        "def fit_model(model):\n",
        "    path_checkpoint = \"model_checkpoint.h5\"\n",
        "    early_stop = keras.callbacks.EarlyStopping(monitor = \"val_loss\",\n",
        "                                               patience = 10)\n",
        "\n",
        "    modelckpt_callback = keras.callbacks.ModelCheckpoint(\n",
        "    monitor=\"val_loss\",\n",
        "    filepath=path_checkpoint,\n",
        "    verbose=1,\n",
        "    save_weights_only=True,\n",
        "    save_best_only=True,\n",
        "    )\n",
        "    history = model.fit(X_train, y_train, epochs = 30,\n",
        "                        validation_split = 0.40,\n",
        "                        batch_size = 32, shuffle = False,\n",
        "                        callbacks = [modelckpt_callback])\n",
        "    return history\n",
        "\n",
        "history_bilstm = fit_model(model_bilstm)"
      ]
    },
    {
      "cell_type": "code",
      "execution_count": null,
      "metadata": {
        "id": "9IjqxQqws1nJ"
      },
      "outputs": [],
      "source": [
        "y_test = scaler.inverse_transform(y_test)\n",
        "y_train = scaler.inverse_transform(y_train)"
      ]
    },
    {
      "cell_type": "code",
      "execution_count": null,
      "metadata": {
        "id": "1Fm4jNhvtwFx",
        "colab": {
          "base_uri": "https://localhost:8080/",
          "height": 723
        },
        "outputId": "13326d46-85ca-4bb6-effd-0bdd6206716c"
      },
      "outputs": [
        {
          "output_type": "execute_result",
          "data": {
            "text/plain": [
              "<matplotlib.legend.Legend at 0x7f68f18c7cd0>"
            ]
          },
          "metadata": {},
          "execution_count": 26
        },
        {
          "output_type": "display_data",
          "data": {
            "text/plain": [
              "<Figure size 1200x800 with 1 Axes>"
            ],
            "image/png": "[encoded data removed]"
          },
          "metadata": {
            "needs_background": "light"
          }
        }
      ],
      "source": [
        "plt.figure(figsize = (12, 8), dpi=100)\n",
        "plt.plot(history_bilstm.history[\"loss\"])\n",
        "plt.plot(history_bilstm.history[\"val_loss\"])\n",
        "plt.title(\"Model Train vs Validation Loss for BiLSTM\")\n",
        "plt.ylabel(\"Loss\")\n",
        "plt.xlabel(\"epoch\")\n",
        "plt.legend([\"Train loss\", \"Validation loss\"], loc=\"upper right\")"
      ]
    },
    {
      "cell_type": "code",
      "execution_count": null,
      "metadata": {
        "id": "Sp_YFdVpP_Lp",
        "colab": {
          "base_uri": "https://localhost:8080/",
          "height": 404
        },
        "outputId": "9cd4fb46-e808-4020-9aa2-56c44fb69e36"
      },
      "outputs": [
        {
          "output_type": "display_data",
          "data": {
            "text/plain": [
              "<Figure size 720x432 with 1 Axes>"
            ],
            "image/png": "[encoded data removed]"
          },
          "metadata": {
            "needs_background": "light"
          }
        }
      ],
      "source": [
        "def prediction(model):\n",
        "    prediction = model.predict(X_test)\n",
        "    prediction = scaler.inverse_transform(prediction)\n",
        "    return prediction\n",
        "\n",
        "\n",
        "prediction_bilstm = prediction(model_bilstm)\n",
        "# Plot test data vs prediction\n",
        "def plot_future(prediction, model_name, y_test):\n",
        "    plt.figure(figsize=(10,6))\n",
        "    range_future = len(prediction)\n",
        "    plt.plot(np.arange(range_future), np.array(y_test),\n",
        "             label=\"Test data\")\n",
        "    plt.plot(np.arange(range_future),\n",
        "             np.array(prediction),label=\"Prediction\")\n",
        "    plt.title(\"Test data vs prediction for \" + model_name)\n",
        "    plt.legend(loc=\"upper left\")\n",
        "    plt.xlabel(\"Time (day)\")\n",
        "    plt.ylabel(\"Private Domestic (Price Index)\")\n",
        "\n",
        "plot_future(prediction_bilstm, \"Bidirectional LSTM\", y_test)\n",
        "\n"
      ]
    },
    {
      "cell_type": "code",
      "execution_count": null,
      "metadata": {
        "id": "xOpQ-cfcEpLV",
        "colab": {
          "base_uri": "https://localhost:8080/"
        },
        "outputId": "d9158309-05cb-40d9-c430-54655001e82c"
      },
      "outputs": [
        {
          "output_type": "execute_result",
          "data": {
            "text/plain": [
              "array([0.76288648])"
            ]
          },
          "metadata": {},
          "execution_count": 28
        }
      ],
      "source": [
        "#Caluclating Mean Absolute Percentage Error\n",
        "mape=(sum(abs((y_test-prediction_bilstm)/y_test)))/len(y_test)*100\n",
        "mape"
      ]
    }
  ],
  "metadata": {
    "colab": {
      "provenance": []
    },
    "kernelspec": {
      "display_name": "Python 3",
      "name": "python3"
    },
    "language_info": {
      "name": "python"
    }
  },
  "nbformat": 4,
  "nbformat_minor": 0
}